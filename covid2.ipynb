{
  "cells": [
    {
      "cell_type": "code",
      "metadata": {
        "id": "qjwcHk3CqDCF",
        "tags": []
      },
      "source": [
        "import logging\n",
        "import os\n",
        "import urllib3\n",
        "\n",
        "logging.captureWarnings(True)\n",
        "http = urllib3.PoolManager()\n",
        "\n",
        "repo_base = \"https://raw.githubusercontent.com/earwole1/covid/master/\"\n",
        "files= [\"covid.py\", \"population.py\"]\n",
        "\n",
        "for file in files:\n",
        "  url = os.path.join(repo_base, file)\n",
        "  r = http.request(\"GET\", url)\n",
        "  out_name = os.path.basename(url)\n",
        "  with open(out_name, 'wb') as fp:\n",
        "    fp.write(r.data)\n",
        "    print(f\"Copied {out_name}\")\n"
      ],
      "execution_count": null,
      "outputs": []
    },
    {
      "cell_type": "code",
      "metadata": {
        "id": "gGE2Usl1qhak"
      },
      "source": [
        "from covid import Covid\n",
        "c = Covid()"
      ],
      "execution_count": null,
      "outputs": []
    },
    {
      "cell_type": "code",
      "execution_count": null,
      "metadata": {
        "tags": [],
        "id": "xfHcuHoqp6Bv"
      },
      "outputs": [],
      "source": [
        "# Find states with positive rate increasing faster than the testing rate over the last 28 days\n",
        "worst_28 = c.find_worst_positive_to_testing(num_return=20, day_range=28)\n",
        "c.print_worst_positive_to_testing(worst_28)"
      ]
    },
    {
      "cell_type": "code",
      "metadata": {
        "id": "Vz2FvBzS2Hfe"
      },
      "source": [
        "_ = c.plot_all_by_date()"
      ],
      "execution_count": null,
      "outputs": []
    },
    {
      "cell_type": "code",
      "source": [
        "ny = c.get_nyt_data()"
      ],
      "metadata": {
        "id": "_o2D5y_0rJDE"
      },
      "execution_count": null,
      "outputs": []
    },
    {
      "cell_type": "code",
      "source": [
        "c.data = ny\n"
      ],
      "metadata": {
        "id": "eLiteGRyrbo8"
      },
      "execution_count": null,
      "outputs": []
    },
    {
      "cell_type": "code",
      "source": [
        "c.data = c.data.assign(hospitalizedCurrently=0)"
      ],
      "metadata": {
        "id": "O8aZ9Mtxr30L"
      },
      "execution_count": null,
      "outputs": []
    },
    {
      "cell_type": "code",
      "source": [
        "c.data = c.data.assign(positive=c.data.cases)\n"
      ],
      "metadata": {
        "id": "f9B29A62sP2c"
      },
      "execution_count": null,
      "outputs": []
    },
    {
      "cell_type": "code",
      "source": [
        "c.data = c.data.assign(totalTestResults=0)"
      ],
      "metadata": {
        "id": "RY0IPGpXsbbk"
      },
      "execution_count": null,
      "outputs": []
    },
    {
      "cell_type": "code",
      "execution_count": null,
      "metadata": {
        "id": "c8eh1hiyp6Bx"
      },
      "outputs": [],
      "source": [
        "from matplotlib import pyplot as plt\n",
        "import numpy as np\n",
        "\n",
        "dates = c.data.date.unique()\n",
        "states = c.data.state.unique()\n",
        "hosp = []\n",
        "cases = []\n",
        "deaths = []\n",
        "data = c.data\n",
        "for date in dates:\n",
        "  temp = data[data.date == date]\n",
        "  hosp_sum = temp.hospitalizedCurrently.sum()\n",
        "  cases_sum = temp.cases.sum()\n",
        "  deaths_sum = temp.deaths.sum()\n",
        "  hosp.append(hosp_sum)\n",
        "  cases.append(cases_sum)\n",
        "  deaths.append(deaths_sum)\n",
        "\n",
        "\n",
        "deaths = np.array(deaths)\n",
        "cases = np.array(cases)\n",
        "hosp = np.array(hosp)\n",
        "\n",
        "smoothed_hosp = c.running_average(hosp, 7)\n",
        "smoothed_deaths = c.running_average(deaths, 7)\n",
        "smoothed_cases = c.running_average(cases, 7)\n",
        "\n",
        "fig, ax = plt.subplots(3, 1)\n",
        "fig.set_figwidth(12)\n",
        "fig.set_figheight(19)\n",
        "ax[0].grid()\n",
        "ax[0].set_title(\"Covid Hospitalized - All States\")\n",
        "m = ax[0].plot(dates, hosp, 'b.', label='Hospitalized')\n",
        "s = ax[0].plot(dates, smoothed_hosp, 'r-', lw=4, label='7-Day Average')\n",
        "ax[0].legend()\n",
        "ax[0].set_ylabel(\"Hospitalized\")\n",
        "\n",
        "ax[1].set_title(\"Hopitalization Rate\")\n",
        "ax[1].grid()\n",
        "dr = ax[1].plot(dates, hosp / cases * 100, 'b.', label='Hosp. Rate %')\n",
        "drs = ax[1].plot(dates, smoothed_hosp / smoothed_cases * 100, 'r-', lw=4, label='7-Day Average')\n",
        "ax[1].legend()\n",
        "ax[1].set_ylabel(\"Percentage\")\n",
        "\n",
        "ax[2].set_title(\"Death Rate\")\n",
        "ax[2].grid()\n",
        "dr = ax[2].plot(dates, deaths / cases * 100, 'b.', label='Death Rate %')\n",
        "drs = ax[2].plot(dates, smoothed_deaths / smoothed_cases * 100, 'r-', lw=4, label='7-Day Average')\n",
        "ax[2].legend()\n",
        "ax[2].set_ylabel(\"Percentage\")\n",
        "\n",
        "\n"
      ]
    },
    {
      "cell_type": "code",
      "execution_count": null,
      "metadata": {
        "id": "yIVp8zE7p6Bz"
      },
      "outputs": [],
      "source": [
        "fig, ax = plt.subplots()\n",
        "fig.set_figwidth(12)\n",
        "fig.set_figheight(12)\n",
        "ax.set_yscale('log')\n",
        "_ = ax.plot(dates, smoothed_cases, label='cases')\n",
        "_ = ax.plot(dates, smoothed_hosp, label='hospitalized')\n",
        "_ = ax.plot(dates, smoothed_deaths, label='deaths')\n",
        "ax.grid()\n",
        "ax.legend()"
      ]
    },
    {
      "cell_type": "code",
      "metadata": {
        "id": "U74yGAzh1i0g"
      },
      "source": [
        "states = [\"Ohio\", \"Maryland\", \"Connecticut\", \"Colorado\"]\n",
        "for state in states:\n",
        "  _ = c.plot_state(state, \"cases\")"
      ],
      "execution_count": null,
      "outputs": []
    },
    {
      "cell_type": "code",
      "metadata": {
        "id": "Z-iKNGAOrgD7"
      },
      "source": [
        "def plot_worst_states(metric: str, num_to_plot: int):\n",
        "  worst = c.find_worst_states(metric, num_to_plot, Covid.DEFAULT_DAYS)\n",
        "  for w in worst:\n",
        "    state = w[0]\n",
        "    try:\n",
        "      _ = c.plot_state(state, metric)\n",
        "    except ValueError as VE:\n",
        "      print(f\"Missing data for {state}.\")\n",
        "\n",
        "  for w in worst:\n",
        "    state = w[0]\n",
        "    tup = w[2][0]\n",
        "    x, y, m = tup\n",
        "    N = len(x)\n",
        "    print(f\"{state:20} {metric} daily change increasing at {m:7.1f}/day over last {N} days\")"
      ],
      "execution_count": null,
      "outputs": []
    },
    {
      "cell_type": "code",
      "metadata": {
        "id": "OSVIRB9M0tXT"
      },
      "source": [
        "plot_worst_states(\"cases\", 4)"
      ],
      "execution_count": null,
      "outputs": []
    },
    {
      "cell_type": "code",
      "metadata": {
        "id": "HsGXZkWXsqng"
      },
      "source": [
        "plot_worst_states(\"hospitalizedCurrently\", 4)"
      ],
      "execution_count": null,
      "outputs": []
    },
    {
      "cell_type": "code",
      "metadata": {
        "id": "L6QGaIFG1HIz"
      },
      "source": [
        "plot_worst_states(\"positive\", 4)"
      ],
      "execution_count": null,
      "outputs": []
    },
    {
      "cell_type": "code",
      "source": [
        "c.pull_and_save(\"https://github.com/nytimes/covid-19-data/raw/master/rolling-averages/us-states.csv\", \"rolling.csv\")"
      ],
      "metadata": {
        "id": "5Pc1g2H5uoKz"
      },
      "execution_count": null,
      "outputs": []
    },
    {
      "cell_type": "code",
      "source": [
        "import pandas as pd\n",
        "from datetime import datetime"
      ],
      "metadata": {
        "id": "J2yktEW40sar"
      },
      "execution_count": null,
      "outputs": []
    },
    {
      "cell_type": "code",
      "source": [
        "r = pd.read_csv(\"rolling.csv\")\n",
        "r.date = pd.to_datetime(r.date, format=\"%Y-%m-%d\")"
      ],
      "metadata": {
        "id": "cK7WC8YK0x8M"
      },
      "execution_count": null,
      "outputs": []
    },
    {
      "cell_type": "code",
      "source": [
        "oh = r[r.state == \"Ohio\"]\n",
        "oh.sort_values(\"date\", ascending=True, inplace=True)"
      ],
      "metadata": {
        "id": "upgiSTAl3j03"
      },
      "execution_count": null,
      "outputs": []
    },
    {
      "cell_type": "code",
      "source": [
        "oh"
      ],
      "metadata": {
        "id": "kxFDIkDF4Pur"
      },
      "execution_count": null,
      "outputs": []
    },
    {
      "cell_type": "code",
      "source": [
        "def plot_state(state):\n",
        "  st = r[r.state == state]\n",
        "  st.sort_values(\"date\", ascending=True, inplace=True)\n",
        "  fig, ax = plt.subplots()\n",
        "  l1 = ax.plot(st.date, st.cases_avg, 'r-', label='Cases/Day')\n",
        "  ax.grid()\n",
        "  fig.set_figwidth(15)\n",
        "  fig.set_figheight(10)\n",
        "  ax.set_ylabel('Cases/Day')\n",
        "  ax2 = ax.twinx()\n",
        "  l2  = ax2.plot(st.date, st.deaths_avg, 'b--', label='Deaths/Day')\n",
        "  ax2.set_ylabel('Deaths/Day')\n",
        "  _ = ax.legend(loc='upper left')\n",
        "  _ = ax2.legend(loc='lower right')\n",
        "  ax.set_title(f\"Per Day stats for {state}\")\n",
        "\n",
        "  fig, ax = plt.subplots()\n",
        "  l1 = ax.plot(st.date, np.cumsum(st.cases_avg), 'r-', label='Total Cases')\n",
        "  ax.grid()\n",
        "  fig.set_figwidth(15)\n",
        "  fig.set_figheight(10)\n",
        "  ax.set_ylabel('Cases')\n",
        "  ax2 = ax.twinx()\n",
        "  l2  = ax2.plot(st.date, np.cumsum(st.deaths_avg), 'b--', label='Total Deaths')\n",
        "  ax2.set_ylabel('Deaths')\n",
        "  _ = ax.legend(loc='upper left')\n",
        "  _ = ax2.legend(loc='lower right')\n",
        "  ax.set_title(f\"Cummukative stats for {state}\")\n",
        "\n",
        "  dr = np.cumsum(st.deaths_avg) / np.cumsum(st.cases_avg)\n",
        "  dr[np.isinf(dr)] = 0\n",
        "  dr *= 100.0 \n",
        "  fig, ax = plt.subplots()\n",
        "  _ = ax.plot(st.date, dr, 'k-', label='Death Rate')\n",
        "  _ = ax.legend()\n",
        "  fig.set_figwidth(15)\n",
        "  fig.set_figheight(10)\n",
        "  ax.grid()\n",
        "  return st\n"
      ],
      "metadata": {
        "id": "vTm_hTLk6D8R"
      },
      "execution_count": null,
      "outputs": []
    },
    {
      "cell_type": "code",
      "source": [
        "md = plot_state(\"Maryland\")"
      ],
      "metadata": {
        "id": "Rowogu6RBLkj"
      },
      "execution_count": null,
      "outputs": []
    },
    {
      "cell_type": "code",
      "source": [
        "oh = plot_state(\"Ohio\")"
      ],
      "metadata": {
        "id": "jewg8VQiBM2Z"
      },
      "execution_count": null,
      "outputs": []
    },
    {
      "cell_type": "code",
      "source": [
        "fl = plot_state(\"Florida\")"
      ],
      "metadata": {
        "id": "iWqzQNX1Cw_n"
      },
      "execution_count": null,
      "outputs": []
    },
    {
      "cell_type": "code",
      "source": [
        "states = r.state.unique()\n",
        "tot = {}\n",
        "for s in states:\n",
        "  q = r[r.state == s]\n",
        "  q.sort_values(\"date\", ascending=True, inplace=True)\n",
        "  q = q[-350:]\n",
        "  _cases = q.cases_avg.sum()\n",
        "  _deaths = q.deaths_avg.sum()\n",
        "  if _cases == 0:\n",
        "    dr = 0\n",
        "  else:\n",
        "    dr = _deaths / _cases * 100\n",
        "\n",
        "  tot[s] = {\"cases\": q.cases_avg.sum(), \"deaths\": q.deaths_avg.sum(), \"dr\": dr}"
      ],
      "metadata": {
        "id": "eBFztkpVFG4g"
      },
      "execution_count": null,
      "outputs": []
    },
    {
      "cell_type": "code",
      "source": [
        "df = pd.DataFrame(tot).T\n",
        "df.sort_values(\"dr\", ascending=False, inplace=True)\n"
      ],
      "metadata": {
        "id": "QzAphn6YFkF7"
      },
      "execution_count": null,
      "outputs": []
    },
    {
      "cell_type": "code",
      "source": [
        "df"
      ],
      "metadata": {
        "id": "8CJ2TOBFGm3R"
      },
      "execution_count": null,
      "outputs": []
    },
    {
      "cell_type": "code",
      "source": [
        ""
      ],
      "metadata": {
        "id": "MVYWtSGYIMYE"
      },
      "execution_count": null,
      "outputs": []
    }
  ],
  "metadata": {
    "colab": {
      "name": "Untitled",
      "provenance": [],
      "private_outputs": true,
      "collapsed_sections": []
    },
    "kernelspec": {
      "name": "python3",
      "display_name": "Python 3"
    }
  },
  "nbformat": 4,
  "nbformat_minor": 0
}