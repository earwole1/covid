{
  "cells": [
    {
      "cell_type": "code",
      "metadata": {
        "id": "qjwcHk3CqDCF",
        "tags": []
      },
      "source": [
        "import logging\n",
        "import os\n",
        "import urllib3\n",
        "\n",
        "logging.captureWarnings(True)\n",
        "http = urllib3.PoolManager()\n",
        "\n",
        "repo_base = \"https://raw.githubusercontent.com/earwole1/covid/master/\"\n",
        "files= [\"covid.py\", \"population.py\"]\n",
        "\n",
        "for file in files:\n",
        "  url = os.path.join(repo_base, file)\n",
        "  r = http.request(\"GET\", url)\n",
        "  out_name = os.path.basename(url)\n",
        "  with open(out_name, 'wb') as fp:\n",
        "    fp.write(r.data)\n",
        "    print(f\"Copied {out_name}\")\n"
      ],
      "execution_count": null,
      "outputs": []
    },
    {
      "cell_type": "code",
      "source": [
        "import pandas as pd\n",
        "from datetime import datetime\n",
        "import matplotlib.pyplot as plt\n",
        "import numpy as np"
      ],
      "metadata": {
        "id": "J2yktEW40sar"
      },
      "execution_count": null,
      "outputs": []
    },
    {
      "cell_type": "code",
      "metadata": {
        "id": "gGE2Usl1qhak"
      },
      "source": [
        "from covid import Covid\n",
        "c = Covid()"
      ],
      "execution_count": null,
      "outputs": []
    },
    {
      "cell_type": "code",
      "source": [
        "c.pull_and_save(\"https://github.com/nytimes/covid-19-data/raw/master/rolling-averages/us-states.csv\", \"rolling.csv\")"
      ],
      "metadata": {
        "id": "5Pc1g2H5uoKz"
      },
      "execution_count": null,
      "outputs": []
    },
    {
      "cell_type": "code",
      "source": [
        "r = pd.read_csv(\"rolling.csv\")\n",
        "r.date = pd.to_datetime(r.date, format=\"%Y-%m-%d\")"
      ],
      "metadata": {
        "id": "cK7WC8YK0x8M"
      },
      "execution_count": null,
      "outputs": []
    },
    {
      "cell_type": "code",
      "source": [
        "def plot_state(state):\n",
        "  st = r[r.state == state]\n",
        "  st.sort_values(\"date\", ascending=True, inplace=True)\n",
        "  fig, ax = plt.subplots()\n",
        "  l1 = ax.plot(st.date, st.cases_avg, 'r-', label='Cases/Day')\n",
        "  ax.grid()\n",
        "  fig.set_figwidth(15)\n",
        "  fig.set_figheight(10)\n",
        "  ax.set_ylabel('Cases/Day')\n",
        "  ax2 = ax.twinx()\n",
        "  l2  = ax2.plot(st.date, st.deaths_avg, 'b--', label='Deaths/Day')\n",
        "  ax2.set_ylabel('Deaths/Day')\n",
        "  _ = ax.legend(loc='upper left')\n",
        "  _ = ax2.legend(loc='lower right')\n",
        "  ax.set_title(f\"Per Day stats for {state}\")\n",
        "\n",
        "  fig, ax = plt.subplots()\n",
        "  l1 = ax.plot(st.date, np.cumsum(st.cases_avg), 'r-', label='Total Cases')\n",
        "  ax.grid()\n",
        "  fig.set_figwidth(15)\n",
        "  fig.set_figheight(10)\n",
        "  ax.set_ylabel('Cases')\n",
        "  ax2 = ax.twinx()\n",
        "  l2  = ax2.plot(st.date, np.cumsum(st.deaths_avg), 'b--', label='Total Deaths')\n",
        "  ax2.set_ylabel('Deaths')\n",
        "  _ = ax.legend(loc='upper left')\n",
        "  _ = ax2.legend(loc='lower right')\n",
        "  ax.set_title(f\"Cummukative stats for {state}\")\n",
        "\n",
        "  dr = np.cumsum(st.deaths_avg) / np.cumsum(st.cases_avg)\n",
        "  dr[np.isinf(dr)] = 0\n",
        "  dr *= 100.0 \n",
        "  fig, ax = plt.subplots()\n",
        "  _ = ax.plot(st.date, dr, 'k-', label='Death Rate')\n",
        "  _ = ax.legend()\n",
        "  fig.set_figwidth(15)\n",
        "  fig.set_figheight(10)\n",
        "  ax.grid()\n",
        "  return st\n"
      ],
      "metadata": {
        "id": "vTm_hTLk6D8R"
      },
      "execution_count": null,
      "outputs": []
    },
    {
      "cell_type": "code",
      "source": [
        "md = plot_state(\"Maryland\")"
      ],
      "metadata": {
        "id": "Rowogu6RBLkj"
      },
      "execution_count": null,
      "outputs": []
    },
    {
      "cell_type": "code",
      "source": [
        "oh = plot_state(\"Ohio\")"
      ],
      "metadata": {
        "id": "jewg8VQiBM2Z"
      },
      "execution_count": null,
      "outputs": []
    },
    {
      "cell_type": "code",
      "source": [
        "fl = plot_state(\"Florida\")"
      ],
      "metadata": {
        "id": "iWqzQNX1Cw_n"
      },
      "execution_count": null,
      "outputs": []
    },
    {
      "cell_type": "code",
      "source": [
        "states = r.state.unique()\n",
        "tot = {}\n",
        "for s in states:\n",
        "  q = r[r.state == s]\n",
        "  q.sort_values(\"date\", ascending=True, inplace=True)\n",
        "  q = q[-350:]\n",
        "  _cases = q.cases_avg.sum()\n",
        "  _deaths = q.deaths_avg.sum()\n",
        "  if _cases == 0:\n",
        "    dr = 0\n",
        "  else:\n",
        "    dr = _deaths / _cases * 100\n",
        "\n",
        "  tot[s] = {\"cases\": q.cases_avg.sum(), \"deaths\": q.deaths_avg.sum(), \"dr\": dr}"
      ],
      "metadata": {
        "id": "eBFztkpVFG4g"
      },
      "execution_count": null,
      "outputs": []
    },
    {
      "cell_type": "code",
      "source": [
        "df = pd.DataFrame(tot).T\n",
        "df.sort_values(\"dr\", ascending=False, inplace=True)\n"
      ],
      "metadata": {
        "id": "QzAphn6YFkF7"
      },
      "execution_count": null,
      "outputs": []
    },
    {
      "cell_type": "code",
      "source": [
        "df.head(20)"
      ],
      "metadata": {
        "id": "8CJ2TOBFGm3R"
      },
      "execution_count": null,
      "outputs": []
    },
    {
      "cell_type": "code",
      "source": [
        ""
      ],
      "metadata": {
        "id": "MVYWtSGYIMYE"
      },
      "execution_count": null,
      "outputs": []
    }
  ],
  "metadata": {
    "colab": {
      "name": "Untitled",
      "provenance": [],
      "private_outputs": true,
      "collapsed_sections": []
    },
    "kernelspec": {
      "name": "python3",
      "display_name": "Python 3"
    }
  },
  "nbformat": 4,
  "nbformat_minor": 0
}