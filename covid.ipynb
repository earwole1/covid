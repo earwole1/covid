{
  "cells": [
    {
      "cell_type": "code",
      "metadata": {
        "id": "qjwcHk3CqDCF",
        "colab_type": "code",
        "colab": {},
        "tags": []
      },
      "source": [
        "import logging\n",
        "import os\n",
        "import urllib3\n",
        "\n",
        "logging.captureWarnings(True)\n",
        "http = urllib3.PoolManager()\n",
        "\n",
        "repo_base = \"https://raw.githubusercontent.com/earwole1/covid/master/\"\n",
        "files= [\"covid.py\", \"population.py\"]\n",
        "\n",
        "for file in files:\n",
        "  url = os.path.join(repo_base, file)\n",
        "  r = http.request(\"GET\", url)\n",
        "  out_name = os.path.basename(url)\n",
        "  with open(out_name, 'wb') as fp:\n",
        "    fp.write(r.data)\n",
        "    print(f\"Copied {out_name}\")\n"
      ],
      "execution_count": null,
      "outputs": []
    },
    {
      "cell_type": "code",
      "metadata": {
        "id": "gGE2Usl1qhak",
        "colab_type": "code",
        "colab": {}
      },
      "source": [
        "from covid import Covid\n",
        "c = Covid()"
      ],
      "execution_count": null,
      "outputs": []
    },
    {
      "cell_type": "code",
      "execution_count": null,
      "metadata": {
        "tags": []
      },
      "outputs": [],
      "source": [
        "# Find states with positive rate increasing faster than the testing rate over the last 28 days\n",
        "worst_28 = c.find_worst_positive_to_testing(num_return=20, day_range=28)\n",
        "c.print_worst_positive_to_testing(worst_28)"
      ]
    },
    {
      "cell_type": "code",
      "metadata": {
        "id": "Vz2FvBzS2Hfe",
        "colab_type": "code",
        "colab": {}
      },
      "source": [
        "_ = c.plot_all_by_date()"
      ],
      "execution_count": null,
      "outputs": []
    },
    {
      "cell_type": "code",
      "execution_count": null,
      "metadata": {},
      "outputs": [],
      "source": [
        "from matplotlib import pyplot as plt\n",
        "\n",
        "dates = c.data.date.unique()\n",
        "states = c.data.state.unique()\n",
        "hosp = []\n",
        "data = c.data\n",
        "for date in dates:\n",
        "  temp = data[data.date == date]\n",
        "  hosp_sum = temp.hospitalizedCurrently.sum()\n",
        "  hosp.append(hosp_sum)\n",
        "smoothed = c.running_average(hosp, 7)\n",
        "fig, ax = plt.subplots()\n",
        "fig.set_figwidth(11)\n",
        "fig.set_figheight(6)\n",
        "ax.grid()\n",
        "ax.set_title(\"Covid Hospitalized - All States\")\n",
        "m = ax.plot(dates, hosp, 'bo', label='Hospitalized')\n",
        "s = ax.plot(dates, smoothed, 'r-', lw=4, label='7-Day Average')\n",
        "ax.legend()\n"
      ]
    },
    {
      "cell_type": "code",
      "metadata": {
        "id": "U74yGAzh1i0g",
        "colab_type": "code",
        "colab": {}
      },
      "source": [
        "states = [\"Ohio\", \"Maryland\", \"Connecticut\", \"Colorado\"]\n",
        "for state in states:\n",
        "  _ = c.plot_state(state, \"cases\")"
      ],
      "execution_count": null,
      "outputs": []
    },
    {
      "cell_type": "code",
      "metadata": {
        "id": "Z-iKNGAOrgD7",
        "colab_type": "code",
        "colab": {}
      },
      "source": [
        "def plot_worst_states(metric: str, num_to_plot: int):\n",
        "  worst = c.find_worst_states(metric, num_to_plot, Covid.DEFAULT_DAYS)\n",
        "  for w in worst:\n",
        "    state = w[0]\n",
        "    try:\n",
        "      _ = c.plot_state(state, metric)\n",
        "    except ValueError as VE:\n",
        "      print(f\"Missing data for {state}.\")\n",
        "\n",
        "  for w in worst:\n",
        "    state = w[0]\n",
        "    tup = w[2][0]\n",
        "    x, y, m = tup\n",
        "    N = len(x)\n",
        "    print(f\"{state:20} {metric} daily change increasing at {m:7.1f}/day over last {N} days\")"
      ],
      "execution_count": null,
      "outputs": []
    },
    {
      "cell_type": "code",
      "metadata": {
        "id": "OSVIRB9M0tXT",
        "colab_type": "code",
        "colab": {}
      },
      "source": [
        "plot_worst_states(\"cases\", 4)"
      ],
      "execution_count": null,
      "outputs": []
    },
    {
      "cell_type": "code",
      "metadata": {
        "id": "HsGXZkWXsqng",
        "colab_type": "code",
        "colab": {}
      },
      "source": [
        "plot_worst_states(\"hospitalizedCurrently\", 4)"
      ],
      "execution_count": null,
      "outputs": []
    },
    {
      "cell_type": "code",
      "metadata": {
        "id": "L6QGaIFG1HIz",
        "colab_type": "code",
        "colab": {}
      },
      "source": [
        "plot_worst_states(\"positive\", 4)"
      ],
      "execution_count": null,
      "outputs": []
    }
  ],
  "metadata": {
    "colab": {
      "name": "Untitled",
      "provenance": [],
      "private_outputs": true,
      "collapsed_sections": []
    },
    "kernelspec": {
      "name": "python3",
      "display_name": "Python 3"
    }
  },
  "nbformat": 4,
  "nbformat_minor": 0
}