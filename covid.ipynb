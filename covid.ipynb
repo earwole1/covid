{
  "cells": [
    {
      "cell_type": "code",
      "metadata": {
        "id": "qjwcHk3CqDCF",
        "colab_type": "code",
        "colab": {},
        "tags": []
      },
      "source": [
        "import logging\n",
        "import os\n",
        "import urllib3\n",
        "\n",
        "logging.captureWarnings(True)\n",
        "http = urllib3.PoolManager()\n",
        "\n",
        "repo_base = \"https://raw.githubusercontent.com/earwole1/covid/master/\"\n",
        "files= [\"covid.py\", \"population.py\"]\n",
        "\n",
        "for file in files:\n",
        "  url = os.path.join(repo_base, file)\n",
        "  r = http.request(\"GET\", url)\n",
        "  out_name = os.path.basename(url)\n",
        "  with open(out_name, 'wb') as fp:\n",
        "    fp.write(r.data)\n",
        "    print(f\"Copied {out_name}\")\n"
      ],
      "execution_count": null,
      "outputs": []
    },
    {
      "cell_type": "code",
      "metadata": {
        "id": "gGE2Usl1qhak",
        "colab_type": "code",
        "colab": {}
      },
      "source": [
        "from covid import Covid\n",
        "c = Covid()"
      ],
      "execution_count": null,
      "outputs": []
    },
    {
      "cell_type": "code",
      "execution_count": null,
      "metadata": {
        "tags": []
      },
      "outputs": [],
      "source": [
        "# Find states with positive rate increasing faster than the testing rate over the last 28 days\n",
        "worst_28 = c.find_worst_positive_to_testing(num_return=20, day_range=28)\n",
        "c.print_worst_positive_to_testing(worst_28)"
      ]
    },
    {
      "cell_type": "code",
      "metadata": {
        "id": "Vz2FvBzS2Hfe",
        "colab_type": "code",
        "colab": {}
      },
      "source": [
        "_ = c.plot_all_by_date()"
      ],
      "execution_count": null,
      "outputs": []
    },
    {
      "cell_type": "code",
      "execution_count": null,
      "metadata": {},
      "outputs": [],
      "source": [
        "from matplotlib import pyplot as plt\n",
        "import numpy as np\n",
        "\n",
        "dates = c.data.date.unique()\n",
        "states = c.data.state.unique()\n",
        "hosp = []\n",
        "cases = []\n",
        "deaths = []\n",
        "data = c.data\n",
        "for date in dates:\n",
        "  temp = data[data.date == date]\n",
        "  hosp_sum = temp.hospitalizedCurrently.sum()\n",
        "  cases_sum = temp.cases.sum()\n",
        "  deaths_sum = temp.deaths.sum()\n",
        "  hosp.append(hosp_sum)\n",
        "  cases.append(cases_sum)\n",
        "  deaths.append(deaths_sum)\n",
        "\n",
        "\n",
        "deaths = np.array(deaths)\n",
        "cases = np.array(cases)\n",
        "hosp = np.array(hosp)\n",
        "\n",
        "smoothed_hosp = c.running_average(hosp, 7)\n",
        "smoothed_deaths = c.running_average(deaths, 7)\n",
        "smoothed_cases = c.running_average(cases, 7)\n",
        "\n",
        "fig, ax = plt.subplots(3, 1)\n",
        "fig.set_figwidth(12)\n",
        "fig.set_figheight(19)\n",
        "ax[0].grid()\n",
        "ax[0].set_title(\"Covid Hospitalized - All States\")\n",
        "m = ax[0].plot(dates, hosp, 'b.', label='Hospitalized')\n",
        "s = ax[0].plot(dates, smoothed_hosp, 'r-', lw=4, label='7-Day Average')\n",
        "ax[0].legend()\n",
        "ax[0].set_ylabel(\"Hospitalized\")\n",
        "\n",
        "ax[1].set_title(\"Hopitalization Rate\")\n",
        "ax[1].grid()\n",
        "dr = ax[1].plot(dates, hosp / cases * 100, 'b.', label='Hosp. Rate %')\n",
        "drs = ax[1].plot(dates, smoothed_hosp / smoothed_cases * 100, 'r-', lw=4, label='7-Day Average')\n",
        "ax[1].legend()\n",
        "ax[1].set_ylabel(\"Percentage\")\n",
        "\n",
        "ax[2].set_title(\"Death Rate\")\n",
        "ax[2].grid()\n",
        "dr = ax[2].plot(dates, deaths / cases * 100, 'b.', label='Death Rate %')\n",
        "drs = ax[2].plot(dates, smoothed_deaths / smoothed_cases * 100, 'r-', lw=4, label='7-Day Average')\n",
        "ax[2].legend()\n",
        "ax[2].set_ylabel(\"Percentage\")\n",
        "\n",
        "\n"
      ]
    },
    {
      "cell_type": "code",
      "execution_count": null,
      "metadata": {},
      "outputs": [],
      "source": [
        "fig, ax = plt.subplots()\n",
        "fig.set_figwidth(12)\n",
        "fig.set_figheight(12)\n",
        "ax.set_yscale('log')\n",
        "_ = ax.plot(dates, smoothed_cases, label='cases')\n",
        "_ = ax.plot(dates, smoothed_hosp, label='hospitalized')\n",
        "_ = ax.plot(dates, smoothed_deaths, label='deaths')\n",
        "ax.grid()\n",
        "ax.legend()"
      ]
    },
    {
      "cell_type": "code",
      "metadata": {
        "id": "U74yGAzh1i0g",
        "colab_type": "code",
        "colab": {}
      },
      "source": [
        "states = [\"Ohio\", \"Maryland\", \"Connecticut\", \"Colorado\"]\n",
        "for state in states:\n",
        "  _ = c.plot_state(state, \"cases\")"
      ],
      "execution_count": null,
      "outputs": []
    },
    {
      "cell_type": "code",
      "metadata": {
        "id": "Z-iKNGAOrgD7",
        "colab_type": "code",
        "colab": {}
      },
      "source": [
        "def plot_worst_states(metric: str, num_to_plot: int):\n",
        "  worst = c.find_worst_states(metric, num_to_plot, Covid.DEFAULT_DAYS)\n",
        "  for w in worst:\n",
        "    state = w[0]\n",
        "    try:\n",
        "      _ = c.plot_state(state, metric)\n",
        "    except ValueError as VE:\n",
        "      print(f\"Missing data for {state}.\")\n",
        "\n",
        "  for w in worst:\n",
        "    state = w[0]\n",
        "    tup = w[2][0]\n",
        "    x, y, m = tup\n",
        "    N = len(x)\n",
        "    print(f\"{state:20} {metric} daily change increasing at {m:7.1f}/day over last {N} days\")"
      ],
      "execution_count": null,
      "outputs": []
    },
    {
      "cell_type": "code",
      "metadata": {
        "id": "OSVIRB9M0tXT",
        "colab_type": "code",
        "colab": {}
      },
      "source": [
        "plot_worst_states(\"cases\", 4)"
      ],
      "execution_count": null,
      "outputs": []
    },
    {
      "cell_type": "code",
      "metadata": {
        "id": "HsGXZkWXsqng",
        "colab_type": "code",
        "colab": {}
      },
      "source": [
        "plot_worst_states(\"hospitalizedCurrently\", 4)"
      ],
      "execution_count": null,
      "outputs": []
    },
    {
      "cell_type": "code",
      "metadata": {
        "id": "L6QGaIFG1HIz",
        "colab_type": "code",
        "colab": {}
      },
      "source": [
        "plot_worst_states(\"positive\", 4)"
      ],
      "execution_count": null,
      "outputs": []
    },
    {
      "cell_type": "code",
      "execution_count": null,
      "metadata": {},
      "outputs": [],
      "source": [
        "worst_positive = c.get_worst_positive(6)\n",
        "for w in worst_positive:\n",
        "  state, x, y = w \n",
        "  y *= 100.0\n",
        "  fig, ax = plt.subplots()\n",
        "  fig.set_figwidth(11)\n",
        "  fig.set_figheight(6)\n",
        "  _ = ax.set_ylim(-1, 25)\n",
        "  _ = ax.plot(x, y, 'rx-')\n",
        "  _ = ax.set_title(f\"Positive Rate: {state}\")\n",
        "  _ = ax.set_ylabel(\"Percent Positive\")\n",
        "  _ = ax.grid()"
      ]
    },
    {
      "cell_type": "code",
      "execution_count": null,
      "metadata": {},
      "outputs": [],
      "source": []
    }
  ],
  "metadata": {
    "colab": {
      "name": "Untitled",
      "provenance": [],
      "private_outputs": true,
      "collapsed_sections": []
    },
    "kernelspec": {
      "name": "python3",
      "display_name": "Python 3"
    }
  },
  "nbformat": 4,
  "nbformat_minor": 0
}